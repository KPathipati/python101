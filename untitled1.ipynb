{
  "nbformat": 4,
  "nbformat_minor": 0,
  "metadata": {
    "colab": {
      "provenance": [],
      "authorship_tag": "ABX9TyMINlbUvkuaeMLIHBBMEQLU",
      "include_colab_link": true
    },
    "kernelspec": {
      "name": "python3",
      "display_name": "Python 3"
    },
    "language_info": {
      "name": "python"
    }
  },
  "cells": [
    {
      "cell_type": "markdown",
      "metadata": {
        "id": "view-in-github",
        "colab_type": "text"
      },
      "source": [
        "<a href=\"https://colab.research.google.com/github/KPathipati/python101/blob/main/untitled1.ipynb\" target=\"_parent\"><img src=\"https://colab.research.google.com/assets/colab-badge.svg\" alt=\"Open In Colab\"/></a>"
      ]
    },
    {
      "cell_type": "code",
      "source": [
        "def is_credit(card_number):\n",
        "  list = [int(num) for num in card_number]\n",
        "  list.reverse()\n",
        "  sum = 0\n",
        "  for i in range(len(list)):\n",
        "    x = list[i]\n",
        "    if i % 2 == 0:\n",
        "        sum += x\n",
        "    elif x >= 5:\n",
        "        sum += x * 2 - 9\n",
        "    else:\n",
        "        sum += x * 2\n",
        "\n",
        "  if sum % 10 == 0:\n",
        "    return True\n",
        "\n",
        "  else:\n",
        "    \n",
        "    return False\n",
        "\n",
        "  print(is_credit(list))\n",
        "def is_visa(list):\n",
        "\n",
        "      length_1 = len(list)\n",
        "      if length_1 == (16) and list [0] == 4:\n",
        "        return \"visa Card\"\n",
        "      else:\n",
        "        return \"this is a invalid visa card\"\n",
        "      print(is_visa(list))\n",
        "\n",
        "def is_mastercard(list):\n",
        "      length_2 = len(list)\n",
        "      if length_2 == 16 and list[0] == 5 and list[1] <= 5 and list [1] >= 0:\n",
        "        return \"this is a valid mastercard\"\n",
        "      else:\n",
        "        return \"this is a invalid mastercard\"\n",
        "      print(is_mastercard(list))\n",
        "\n",
        "def main():\n",
        "  print(\"is_credit('6011000000000004')\", is_credit(\"6011000000000004\"))\n",
        "  print(\"is_credit('79927398713')\", is_credit(\"79927398713\"))\n",
        "  print(\"is_credit('30000000000004')\" ,is_credit(\"30000000000004\"))\n",
        "  print(\"is_credit('6911600873502604')\"  ,is_credit(\"6911600873502604\"))\n",
        "  print(\"is_credit('1234567890')\",  is_credit(\"1234567890\"))\n",
        "\n",
        "  print(\"is_visa('6011000000000004')\",is_visa(\"6011000000000004\"))\n",
        "  print(\"is_visa('79927398713')\", is_visa(\"79927398713\"))\n",
        "  print(\"is_visa('30000000000004')\" ,is_visa(\"30000000000004\"))\n",
        "  print(\"is_visa('6911600873502604')\"  ,is_visa(\"6911600873502604\"))\n",
        "  print(\"is_visa('1234567890')\",  is_visa(\"1234567890\"))\n",
        "  print(\"is_mastercard('6011000000000004')\",is_mastercard(\"6011000000000004\"))\n",
        "  print(\"is_mastercard('79927398713')\", is_mastercard(\"79927398713\"))\n",
        "  print(\"is_mastercard('30000000000004')\" ,is_mastercard(\"30000000000004\"))\n",
        "  print(\"is_mastercard('6911600873502604')\"  ,is_mastercard(\"6911600873502604\"))\n",
        "  print(\"is_mastercard('1234567890')\",  is_mastercard(\"1234567890\"))\n",
        "\n",
        "main()\n",
        "\n"
      ],
      "metadata": {
        "colab": {
          "base_uri": "https://localhost:8080/"
        },
        "id": "tOLdZ39XsfaM",
        "outputId": "8a0a2321-1cec-40a8-a2f1-68d7cc16bd43"
      },
      "execution_count": null,
      "outputs": [
        {
          "output_type": "stream",
          "name": "stdout",
          "text": [
            "is_credit('6011000000000004') True\n",
            "is_credit('79927398713') True\n",
            "is_credit('30000000000004') True\n",
            "is_credit('6911600873502604') False\n",
            "is_credit('1234567890') False\n",
            "is_visa('6011000000000004') invalid visa card\n",
            "is_visa('79927398713') invalid visa card\n",
            "is_visa('30000000000004') invalid visa card\n",
            "is_visa('6911600873502604') invalid visa card\n",
            "is_visa('1234567890') invalid visa card\n",
            "is_mastercard('6011000000000004') invalid mastercard\n",
            "is_mastercard('79927398713') invalid mastercard\n",
            "is_mastercard('30000000000004') invalid mastercard\n",
            "is_mastercard('6911600873502604') invalid mastercard\n",
            "is_mastercard('1234567890') invalid mastercard\n"
          ]
        }
      ]
    }
  ]
}