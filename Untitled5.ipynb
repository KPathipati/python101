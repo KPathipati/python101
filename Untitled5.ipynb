{
  "nbformat": 4,
  "nbformat_minor": 0,
  "metadata": {
    "colab": {
      "provenance": [],
      "authorship_tag": "ABX9TyNRf6p86n69imetpUD9kq6x",
      "include_colab_link": true
    },
    "kernelspec": {
      "name": "python3",
      "display_name": "Python 3"
    },
    "language_info": {
      "name": "python"
    }
  },
  "cells": [
    {
      "cell_type": "markdown",
      "metadata": {
        "id": "view-in-github",
        "colab_type": "text"
      },
      "source": [
        "<a href=\"https://colab.research.google.com/github/KPathipati/python101/blob/main/Untitled5.ipynb\" target=\"_parent\"><img src=\"https://colab.research.google.com/assets/colab-badge.svg\" alt=\"Open In Colab\"/></a>"
      ]
    },
    {
      "cell_type": "code",
      "source": [
        "def is_word_guessed(secret_word, letters_guessed):\n",
        "    for elem in secret_word:\n",
        "        if elem not in letters_guessed:\n",
        "            return False\n",
        "    return True\n",
        "\n",
        "def get_guessed_word(secret_word, letters_guessed):\n",
        "    word = \" \"\n",
        "    for letter in secret_word:\n",
        "        if letter in letters_guessed:\n",
        "            word = word + letter\n",
        "        else:\n",
        "            word += \"_\"\n",
        "    return word\n",
        "\n",
        "def get_available_letters(letters_guessed):\n",
        "    letters = \"abcdefghijklmnopqrstuvwxyz\"\n",
        "    unguessed = \" \"\n",
        "    for elem in letters:\n",
        "        if elem not in letters_guessed:\n",
        "            unguessed = unguessed + elem\n",
        "    return unguessed\n",
        "\n",
        "def hangman(secret_word):\n",
        "    available_letters = 'abcdefghijklmnopqrstuvwxyz'\n",
        "    guesses_left = 6\n",
        "    guessed_letters = []\n",
        "    secret_word = secret_word.lower()\n",
        "    secret_set = set(secret_word)\n",
        "    guessed_word = ['_' if letter.isalpha() else letter for letter in secret_word]\n",
        "\n",
        "    print(\"This is Hangman\")\n",
        "    print(f\"The secret word contains this many letters = {len(secret_word)}\")\n",
        "    print(f\"guesses left = \" , guesses_left)\n",
        "\n",
        "    while guesses_left > 0:\n",
        "        print(\"\\nAvailable letters:\", available_letters)\n",
        "        guess = input(\"Please guess a letter: \").lower()\n",
        "\n",
        "        if len(guess) != 1 or guess not in available_letters:\n",
        "            print(\"Invalid input. Please enter a single letter.\")\n",
        "            continue\n",
        "\n",
        "        if guess in guessed_letters:\n",
        "            print(\"You've already guessed that letter.\")\n",
        "            continue\n",
        "\n",
        "        guessed_letters.append(guess)\n",
        "        available_letters = available_letters.replace(guess, '')\n",
        "\n",
        "        if guess in secret_set:\n",
        "            print(\"Nice job\")\n",
        "            for i, letter in enumerate(secret_word):\n",
        "                if letter == guess:\n",
        "                    guessed_word[i] = guess\n",
        "        else:\n",
        "            print(\"wrong letter try again\")\n",
        "            guesses_left -= 1\n",
        "\n",
        "        print(\"Guessed word:\", ' '.join(guessed_word))\n",
        "\n",
        "        if '_' not in guessed_word:\n",
        "            print(\"you got it right\")\n",
        "            break\n",
        "\n",
        "    if guesses_left == 0:\n",
        "        print(f\"Sorry, you've run out of guesses. The word was '{secret_word}'.\")\n",
        "\n",
        "\n",
        "hangman(\"example_word\")\n"
      ],
      "metadata": {
        "colab": {
          "base_uri": "https://localhost:8080/"
        },
        "id": "MAYauuutHx4u",
        "outputId": "bfdec863-7158-40c6-f67d-c2c8ffc76617"
      },
      "execution_count": null,
      "outputs": [
        {
          "output_type": "stream",
          "name": "stdout",
          "text": [
            "This is Hangman\n",
            "The secret word contains this many letters = 12\n",
            "guesses left =  6\n",
            "\n",
            "Available letters: abcdefghijklmnopqrstuvwxyz\n"
          ]
        }
      ]
    },
    {
      "cell_type": "code",
      "source": [
        "def is_word_guessed(secret_word, letters_guessed):\n",
        "\n",
        "    secret_list = list(secret_word)\n",
        "\n",
        "    for elem in secret_list:\n",
        "        if elem not in letters_guessed:\n",
        "            return False\n",
        "    return True\n",
        "\n",
        "def get_guessed_word(secret_word, letters_guessed):\n",
        "    my_word = \"\"\n",
        "    for i in range(len(secret_word)):\n",
        "        if secret_word[i] in letters_guessed:\n",
        "            my_word += secret_word[i]\n",
        "        else:\n",
        "            my_word += \"_\"\n",
        "    return my_word\n",
        "\n",
        "def get_available_letters(letters_guessed):\n",
        "    letters = \"abcdefghijklmnopqrstuvwxyz\"\n",
        "    unguessed = \"\"\n",
        "    for elem in letters:\n",
        "      if elem not in letters_guessed:\n",
        "        unguessed += elem\n",
        "    return unguessed\n",
        "\n",
        "#@title Testing of get_guessed_word(my_word, guesses)\n",
        "# test case 1\n",
        "my_word = 'computer'\n",
        "guesses = ['c', 'w', 'm', 'r']\n",
        "phrase = get_guessed_word(my_word, guesses)\n",
        "print(phrase)  # c_ m_ _ _ _ r\n",
        "\n",
        "my_word = ' programming'\n",
        "guesses = ['c', 'p', 'm', 'a', 'r']\n",
        "phrase = get_guessed_word(my_word, guesses)\n",
        "print(phrase)  # pr_ _ ramm_ _ _ '\n",
        "\n",
        "\n",
        "my_word = 'america'\n",
        "guesses = ['c', 'p', 'm', 'a', 'r']\n",
        "phrase = get_guessed_word(my_word, guesses)\n",
        "print(phrase)  # am_ r_ ca'\n",
        "\n",
        "\n",
        "#@title Testing of get_available_letters(letters_guessed):\n",
        "str_1 = get_available_letters(['a', 'b', 'c'])\n",
        "print(str_1)  # \"def...z\"\n",
        "\n",
        "\n",
        "str_1 = get_available_letters(['p', 'q', 'r'])\n",
        "print(str_1)  # \"abc... z\" (everything except pqr)\n",
        "\n",
        "\n",
        "str_1 = get_available_letters(['b', 'o', 'x'])\n",
        "print(str_1)  # \"ac... z\" (everything except b, o, x)\n"
      ],
      "metadata": {
        "colab": {
          "base_uri": "https://localhost:8080/"
        },
        "id": "LB2yn44wEkjE",
        "outputId": "e49a2393-0c1c-4de8-a942-84f834b5e68d"
      },
      "execution_count": 3,
      "outputs": [
        {
          "output_type": "stream",
          "name": "stdout",
          "text": [
            "c_m____r\n",
            "_pr__ramm___\n",
            "am_r_ca\n",
            "defghijklmnopqrstuvwxyz\n",
            "abcdefghijklmnostuvwxyz\n",
            "acdefghijklmnpqrstuvwyz\n"
          ]
        }
      ]
    },
    {
      "cell_type": "code",
      "execution_count": null,
      "metadata": {
        "colab": {
          "base_uri": "https://localhost:8080/"
        },
        "id": "IIeLGMsOdGKa",
        "outputId": "2bc26489-3ebf-46ed-c5e4-e1fc607fe654"
      },
      "outputs": [
        {
          "output_type": "stream",
          "name": "stdout",
          "text": [
            "Help on method_descriptor:\n",
            "\n",
            "issubset(...)\n",
            "    Report whether another set contains this set.\n",
            "\n",
            "nums is: {1, 2, 3, 4, 5}\n",
            "nums1 is: {3, 5}\n",
            "is nums1 a subset of nums? True\n",
            "nums2 is: {9, 7}\n",
            "is nums2 a subset of nums? False\n"
          ]
        }
      ],
      "source": [
        "help(set.issubset)\n",
        "\n",
        "nums = {1,2,3,4,5}\n",
        "nums1 = {3,5}\n",
        "nums2 = {7,9}\n",
        "\n",
        "sub = nums1.issubset(nums)\n",
        "print(\"nums is:\", nums)\n",
        "print(\"nums1 is:\", nums1)\n",
        "print(\"is nums1 a subset of nums?\", sub)\n",
        "\n",
        "sub2 = nums2.issubset(nums)\n",
        "print(\"nums2 is:\", nums2)\n",
        "print(\"is nums2 a subset of nums?\", sub2)\n",
        "\n",
        "\n"
      ]
    }
  ]
}