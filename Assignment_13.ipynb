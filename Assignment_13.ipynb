{
  "nbformat": 4,
  "nbformat_minor": 0,
  "metadata": {
    "colab": {
      "provenance": [],
      "include_colab_link": true
    },
    "kernelspec": {
      "name": "python3",
      "display_name": "Python 3"
    },
    "language_info": {
      "name": "python"
    }
  },
  "cells": [
    {
      "cell_type": "markdown",
      "metadata": {
        "id": "view-in-github",
        "colab_type": "text"
      },
      "source": [
        "<a href=\"https://colab.research.google.com/github/KPathipati/python101/blob/main/Assignment_13.ipynb\" target=\"_parent\"><img src=\"https://colab.research.google.com/assets/colab-badge.svg\" alt=\"Open In Colab\"/></a>"
      ]
    },
    {
      "cell_type": "code",
      "execution_count": 1,
      "metadata": {
        "id": "bcbrE0Qo-5tm",
        "outputId": "40898e37-dd4d-4806-dd94-68d08a7302df",
        "colab": {
          "base_uri": "https://localhost:8080/"
        }
      },
      "outputs": [
        {
          "output_type": "stream",
          "name": "stdout",
          "text": [
            "Enter the absolute path for the directory- k\n",
            "Invalid directory path. Please provide a valid absolute path.\n"
          ]
        }
      ],
      "source": [
        "import os\n",
        "\n",
        "def get_directory_info(directory_path):\n",
        "    file_counter = 0\n",
        "    folder_counter = 0\n",
        "    total_size = 0\n",
        "\n",
        "    for root, dirs, files in os.walk(directory_path):\n",
        "      folder_count += len(dirs)\n",
        "      file_count += len(files)\n",
        "      for file in files:\n",
        "        file_path = os.path.join(root, file)\n",
        "        total_size += os.path.getsize(file_path)\n",
        "\n",
        "    return file_count, folder_count, total_size\n",
        "\n",
        "directory_path = input(\"Please enter the absolute path for the directory- \")\n",
        "\n",
        "if os.path.exists(directory_path) and os.path.isdir(directory_path):\n",
        "    file_count, folder_count, total_size = get_directory_info(directory_path)\n",
        "    print(\"\\nDirectory Info:\")\n",
        "    print(\"number of Files-\", file_count)\n",
        "    print(\"number of Folders-\", folder_count)\n",
        "    print(\"otal Size (in bytes)-\", total_size)\n",
        "else:\n",
        "    print(\"Invalid directory path. Please provide a valid absolute path.\")"
      ]
    }
  ]
}