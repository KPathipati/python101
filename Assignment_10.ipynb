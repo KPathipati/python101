{
  "nbformat": 4,
  "nbformat_minor": 0,
  "metadata": {
    "colab": {
      "provenance": [],
      "include_colab_link": true
    },
    "kernelspec": {
      "name": "python3",
      "display_name": "Python 3"
    },
    "language_info": {
      "name": "python"
    }
  },
  "cells": [
    {
      "cell_type": "markdown",
      "metadata": {
        "id": "view-in-github",
        "colab_type": "text"
      },
      "source": [
        "<a href=\"https://colab.research.google.com/github/KPathipati/python101/blob/main/Assignment_10.ipynb\" target=\"_parent\"><img src=\"https://colab.research.google.com/assets/colab-badge.svg\" alt=\"Open In Colab\"/></a>"
      ]
    },
    {
      "cell_type": "code",
      "execution_count": 10,
      "metadata": {
        "colab": {
          "base_uri": "https://localhost:8080/"
        },
        "id": "Zizo2YbEGAp9",
        "outputId": "5ffa6de5-eba0-4d20-850a-31a9b737f143"
      },
      "outputs": [
        {
          "output_type": "stream",
          "name": "stdout",
          "text": [
            "Employee: Ronald Mcdonald, Employee Number: N123\n",
            "Employee(employee_name = Ronald Mcdonald, employee_number = N123)\n",
            "ProductionWorker: Smithy jameson, Employee Number: N456, Shift Number: 6, Hourly Pay Rate: 23.4\n",
            "ProductionWorker(employee_name=Smithy jameson, employee_number=N456, shift_no=6, hourly_pay_rate=23.4)\n",
            "Manager: Henry Larry, Employee Number: N1223, Annual Salary: 87945, Annual Bonus: 2334\n",
            "Manager(employee_name = Henry Larry, employee number = N1223, annual salary = 87945, annual_bonus = 2334)\n"
          ]
        }
      ],
      "source": [
        "class Employee:\n",
        "    def __init__(self, employee_name, employee_number):\n",
        "        self._employee_name = employee_name\n",
        "        self._employee_number = employee_number\n",
        "\n",
        "    def get_employee_name(self):\n",
        "        return self._employee_name\n",
        "    def set_employee_name(self, employee_name):\n",
        "        self._employee_name = employee_name\n",
        "    def get_employee_number(self):\n",
        "        return self._employee_number\n",
        "    def set_employee_number(self, employee_number):\n",
        "        self._employee_number = employee_number\n",
        "    def __repr__(self):\n",
        "        return f\"Employee(employee_name = {self._employee_name}, employee_number = {self._employee_number})\"\n",
        "    def __str__(self):\n",
        "        return f\"Employee: {self._employee_name}, Employee Number: {self._employee_number}\"\n",
        "\n",
        "class Production_Worker(Employee):\n",
        "    def __init__(self, employee_name, employee_number, shift_number, hourly_wage):\n",
        "        super().__init__(employee_name, employee_number)\n",
        "        self._shift_number = shift_number\n",
        "        self._hourly_wage = hourly_wage\n",
        "    def get_shift_number(self):\n",
        "        return self._shift_number\n",
        "    def set_shift_number(self, shift_number):\n",
        "        self._shift_number = shift_number\n",
        "    def get_hourly_wage(self):\n",
        "        return self._hourly_wage\n",
        "    def set_hourly_wage(self, hourly_wage):\n",
        "        self._hourly_wage = hourly_wage\n",
        "    def __repr__(self):\n",
        "        return (\n",
        "            f\"Production Worker(employee_name = {self._employee_name}, employee_number = {self._employee_number}, \"\n",
        "            f\"shift number = {self._shift_number}, Hourly Wage = {self._hourly_wage})\"\n",
        "        )\n",
        "\n",
        "    def __str__(self):\n",
        "        return (\n",
        "            f\"Production Worker: {self._employee_name}, Employee Number: {self._employee_number}, \"\n",
        "            f\"Shift Number: {self._shift_number}, Hourly Wage: {self._hourly_wage}\"\n",
        "        )\n",
        "\n",
        "employee_instance = Employee(\"Ronald Mcdonald\", \"N123\")\n",
        "print(employee_instance)\n",
        "print(repr(employee_instance))\n",
        "\n",
        "production_worker_instance = ProductionWorker(\"Smithy jameson\", \"N456\", 6, 23.4)\n",
        "print(production_worker_instance)\n",
        "print(repr(production_worker_instance))\n",
        "\n",
        "class ShiftSupervisor(Employee):\n",
        "    def __init__(self, employee_name, employee_number, annual_salary, annual_bonus):\n",
        "        super().__init__(employee_name, employee_number)\n",
        "        self._annual_salary = annual_salary\n",
        "        self._annual_bonus = annual_bonus\n",
        "    def get_annual_salary(self):\n",
        "        return self._annual_salary\n",
        "    def set_annual_salary(self, annual_salary):\n",
        "        self._annual_salary = annual_salary\n",
        "    def get_annual_bonus(self):\n",
        "        return self._annual_bonus\n",
        "    def set_annual_bonus(self, annual_bonus):\n",
        "        self._annual_bonus = annual_bonus\n",
        "    def __repr__(self):\n",
        "        return (\n",
        "            f\"Manager(employee_name = {self._employee_name}, employee number = {self._employee_number}, \"\n",
        "            f\"annual salary = {self._annual_salary}, annual_bonus = {self._annual_bonus})\"\n",
        "        )\n",
        "\n",
        "    def __str__(self):\n",
        "        return (\n",
        "            f\"Manager: {self._employee_name}, Employee Number: {self._employee_number}, \"\n",
        "            f\"Annual Salary: {self._annual_salary}, Annual Bonus: {self._annual_bonus}\"\n",
        "        )\n",
        "\n",
        "shift_supervisor_instance = ShiftSupervisor(\"Henry Larry\", \"N1223\", 87945, 2334)\n",
        "print(shift_supervisor_instance)\n",
        "print(repr(shift_supervisor_instance))\n",
        "\n"
      ]
    }
  ]
}