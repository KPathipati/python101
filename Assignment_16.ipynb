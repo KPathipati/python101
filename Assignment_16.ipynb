{
  "nbformat": 4,
  "nbformat_minor": 0,
  "metadata": {
    "colab": {
      "provenance": [],
      "include_colab_link": true
    },
    "kernelspec": {
      "name": "python3",
      "display_name": "Python 3"
    },
    "language_info": {
      "name": "python"
    }
  },
  "cells": [
    {
      "cell_type": "markdown",
      "metadata": {
        "id": "view-in-github",
        "colab_type": "text"
      },
      "source": [
        "<a href=\"https://colab.research.google.com/github/KPathipati/python101/blob/main/Assignment_16.ipynb\" target=\"_parent\"><img src=\"https://colab.research.google.com/assets/colab-badge.svg\" alt=\"Open In Colab\"/></a>"
      ]
    },
    {
      "cell_type": "code",
      "execution_count": 4,
      "metadata": {
        "id": "7eTfSF6rTx8n",
        "outputId": "0377f633-140e-4709-9359-bce4c7eb88e3",
        "colab": {
          "base_uri": "https://localhost:8080/"
        }
      },
      "outputs": [
        {
          "output_type": "stream",
          "name": "stdout",
          "text": [
            "Title = Title 1, Author = Author 1\n",
            "Title = Title 2, Author = Author 2\n",
            "Title = Title 3, Author = Author 3\n",
            "Title = Title 4, Author = Author 4\n",
            "Title = Title 5, Author = Author 5\n"
          ]
        }
      ],
      "source": [
        "class Book:\n",
        "    def __init__(self, title, author):\n",
        "        self.title = title\n",
        "        self.author = author\n",
        "class Book_Collection:\n",
        "    def __init__(self):\n",
        "        self.books_list = []\n",
        "    def add_book(self, book):\n",
        "        self.books_list.append(book)\n",
        "    def remove_book(self, book):\n",
        "        self.books_list.remove(book)\n",
        "    def __iter__(self):\n",
        "        self.index = 0\n",
        "        return self\n",
        "    def __next__(self):\n",
        "        if self.index < len(self.books_list):\n",
        "            book = self.books_list[self.index]\n",
        "            self.index += 1\n",
        "            return book\n",
        "        else:\n",
        "            raise StopIteration\n",
        "books = [\n",
        "    Book(\"Title 1\", \"Author 1\"),\n",
        "    Book(\"Title 2\", \"Author 2\"),\n",
        "    Book(\"Title 3\", \"Author 3\"),\n",
        "    Book(\"Title 4\", \"Author 4\"),\n",
        "    Book(\"Title 5\", \"Author 5\")\n",
        "]\n",
        "book_collection = Book_Collection()\n",
        "for book in books:\n",
        "    book_collection.add_book(book)\n",
        "for book in book_collection:\n",
        "    print(f\"Title = {book.title}, Author = {book.author}\")\n"
      ]
    }
  ]
}