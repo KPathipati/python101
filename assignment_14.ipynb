{
  "nbformat": 4,
  "nbformat_minor": 0,
  "metadata": {
    "colab": {
      "provenance": [],
      "authorship_tag": "ABX9TyOIRqWXj2PPur6xlCm/Cszx",
      "include_colab_link": true
    },
    "kernelspec": {
      "name": "python3",
      "display_name": "Python 3"
    },
    "language_info": {
      "name": "python"
    }
  },
  "cells": [
    {
      "cell_type": "markdown",
      "metadata": {
        "id": "view-in-github",
        "colab_type": "text"
      },
      "source": [
        "<a href=\"https://colab.research.google.com/github/KPathipati/python101/blob/main/assignment_14.ipynb\" target=\"_parent\"><img src=\"https://colab.research.google.com/assets/colab-badge.svg\" alt=\"Open In Colab\"/></a>"
      ]
    },
    {
      "cell_type": "code",
      "execution_count": 3,
      "metadata": {
        "id": "XjXHS_gZpzQD",
        "colab": {
          "base_uri": "https://localhost:8080/"
        },
        "outputId": "bb768249-5211-4dc2-ca53-6338697198f0"
      },
      "outputs": [
        {
          "output_type": "stream",
          "name": "stdout",
          "text": [
            "Could not open file 'gasprices.txt'\n"
          ]
        }
      ],
      "source": [
        "filen = 'gasprices.txt'\n",
        "\n",
        "file_exists = True\n",
        "try:\n",
        "    f = open(filen, 'r')\n",
        "except FileNotFoundError:\n",
        "    file_exists = False\n",
        "\n",
        "if file_exists:\n",
        "    lines = f.readlines()\n",
        "    f.close()\n",
        "\n",
        "    for i in range(len(lines)):\n",
        "        fields = lines[i].strip().split()\n",
        "        month = fields[0]\n",
        "        day = fields[1]\n",
        "        year = fields[2]\n",
        "        price = fields[3]\n",
        "        print(f\"[{i+1}]\")\n",
        "        print(f\"Month: {month}\")\n",
        "        print(f\"Day: {day}\")\n",
        "        print(f\"Year: {year}\")\n",
        "        print(f\"Price: {price}\\n\")\n",
        "\n",
        "else:\n",
        "    print(f\"Could not open file '{filen}'\")"
      ]
    }
  ]
}