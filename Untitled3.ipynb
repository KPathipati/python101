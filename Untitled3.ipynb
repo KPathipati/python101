{
  "nbformat": 4,
  "nbformat_minor": 0,
  "metadata": {
    "colab": {
      "provenance": [],
      "authorship_tag": "ABX9TyPXAYoQpsjTZOYSA2YYFx74",
      "include_colab_link": true
    },
    "kernelspec": {
      "name": "python3",
      "display_name": "Python 3"
    },
    "language_info": {
      "name": "python"
    }
  },
  "cells": [
    {
      "cell_type": "markdown",
      "metadata": {
        "id": "view-in-github",
        "colab_type": "text"
      },
      "source": [
        "<a href=\"https://colab.research.google.com/github/KPathipati/python101/blob/main/Untitled3.ipynb\" target=\"_parent\"><img src=\"https://colab.research.google.com/assets/colab-badge.svg\" alt=\"Open In Colab\"/></a>"
      ]
    },
    {
      "cell_type": "code",
      "execution_count": 16,
      "metadata": {
        "colab": {
          "base_uri": "https://localhost:8080/",
          "height": 377
        },
        "id": "8psL14oV86jQ",
        "outputId": "29da8f18-367e-4272-e609-d1a879e97b36"
      },
      "outputs": [
        {
          "output_type": "stream",
          "name": "stdout",
          "text": [
            "Mama shows up this many times:  3\n",
            "Papa shows up this many times:  3\n",
            "The longest line in the story is : was too hard. Then she lay in the second bed, but it was too soft. Then she lay down in the third bed and it was\n",
            "\n",
            "the amount of characters is : 113\n",
            "The shortest line in the story is : \"Ahhh, this chair is just right,\" she sighed. But just as she settled down into the chair to rest, it broke into\n",
            "\n",
            "the amount of characters is : 113\n"
          ]
        },
        {
          "output_type": "error",
          "ename": "AttributeError",
          "evalue": "ignored",
          "traceback": [
            "\u001b[0;31m---------------------------------------------------------------------------\u001b[0m",
            "\u001b[0;31mAttributeError\u001b[0m                            Traceback (most recent call last)",
            "\u001b[0;32m<ipython-input-16-aadc375dbb8c>\u001b[0m in \u001b[0;36m<module>\u001b[0;34m\u001b[0m\n\u001b[1;32m     21\u001b[0m \u001b[0mprint\u001b[0m\u001b[0;34m(\u001b[0m\u001b[0;34m\"the amount of characters is :\"\u001b[0m\u001b[0;34m,\u001b[0m \u001b[0mlen\u001b[0m\u001b[0;34m(\u001b[0m\u001b[0mmin\u001b[0m\u001b[0;34m(\u001b[0m\u001b[0mlines\u001b[0m\u001b[0;34m)\u001b[0m\u001b[0;34m)\u001b[0m\u001b[0;34m)\u001b[0m\u001b[0;34m\u001b[0m\u001b[0;34m\u001b[0m\u001b[0m\n\u001b[1;32m     22\u001b[0m \u001b[0;34m\u001b[0m\u001b[0m\n\u001b[0;32m---> 23\u001b[0;31m \u001b[0mlines\u001b[0m\u001b[0;34m.\u001b[0m\u001b[0mclose\u001b[0m\u001b[0;34m(\u001b[0m\u001b[0;34m)\u001b[0m\u001b[0;34m\u001b[0m\u001b[0;34m\u001b[0m\u001b[0m\n\u001b[0m\u001b[1;32m     24\u001b[0m \u001b[0;34m\u001b[0m\u001b[0m\n",
            "\u001b[0;31mAttributeError\u001b[0m: 'list' object has no attribute 'close'"
          ]
        }
      ],
      "source": [
        "with open('goldilocks.txt') as story:\n",
        "  lines = story.readlines()\n",
        "\n",
        "num_mama = []\n",
        "for mama in lines:\n",
        "  if \"Mama\" in mama:\n",
        "    num_mama.append(mama)\n",
        "\n",
        "num_papa = []\n",
        "for papa in lines:\n",
        "  if \"Papa\" in papa:\n",
        "    num_papa.append(papa)\n",
        "\n",
        "print(\"Mama shows up this many times: \", len(num_mama))\n",
        "print(\"Papa shows up this many times: \", len(num_papa))\n",
        "\n",
        "# extra credit attempt\n",
        "print(\"The longest line in the story is :\" , max(lines))\n",
        "print(\"the amount of characters is :\", len(max(lines)))\n",
        "print(\"The shortest line in the story is :\" , min(lines))\n",
        "print(\"the amount of characters is :\", len(min(lines)))\n",
        "\n",
        "lines.close()\n",
        "\n"
      ]
    }
  ]
}