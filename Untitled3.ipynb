{
  "nbformat": 4,
  "nbformat_minor": 0,
  "metadata": {
    "colab": {
      "provenance": [],
      "authorship_tag": "ABX9TyNC96lrlQoJYc6XRjfzfm51",
      "include_colab_link": true
    },
    "kernelspec": {
      "name": "python3",
      "display_name": "Python 3"
    },
    "language_info": {
      "name": "python"
    }
  },
  "cells": [
    {
      "cell_type": "markdown",
      "metadata": {
        "id": "view-in-github",
        "colab_type": "text"
      },
      "source": [
        "<a href=\"https://colab.research.google.com/github/KPathipati/python101/blob/main/Untitled3.ipynb\" target=\"_parent\"><img src=\"https://colab.research.google.com/assets/colab-badge.svg\" alt=\"Open In Colab\"/></a>"
      ]
    },
    {
      "cell_type": "code",
      "execution_count": 12,
      "metadata": {
        "colab": {
          "base_uri": "https://localhost:8080/"
        },
        "id": "8psL14oV86jQ",
        "outputId": "c7df978c-60c2-421e-9d6b-b78d69d5f411"
      },
      "outputs": [
        {
          "output_type": "stream",
          "name": "stdout",
          "text": [
            "Mama shows up this many times:  3\n",
            "Papa shows up this many times:  3\n",
            "The longest line in the story is : was too hard. Then she lay in the second bed, but it was too soft. Then she lay down in the third bed and it was\n",
            "\n",
            "The shortest line in the story is : \"Ahhh, this chair is just right,\" she sighed. But just as she settled down into the chair to rest, it broke into\n",
            "\n"
          ]
        }
      ],
      "source": [
        "with open('goldilocks.txt') as story:\n",
        "  lines = story.readlines()\n",
        "\n",
        "num_mama = []\n",
        "for mama in lines:\n",
        "  if \"Mama\" in mama:\n",
        "    num_mama.append(mama)\n",
        "\n",
        "num_papa = []\n",
        "for papa in lines:\n",
        "  if \"Papa\" in papa:\n",
        "    num_papa.append(papa)\n",
        "\n",
        "print(\"Mama shows up this many times: \", len(num_mama))\n",
        "print(\"Papa shows up this many times: \", len(num_papa))\n",
        "\n",
        "# extra credit attempt\n",
        "print(\"The longest line in the story is :\" , max(lines))\n",
        "print(\"The shortest line in the story is :\" , min(lines))\n",
        "\n"
      ]
    }
  ]
}