{
  "nbformat": 4,
  "nbformat_minor": 0,
  "metadata": {
    "colab": {
      "provenance": [],
      "include_colab_link": true
    },
    "kernelspec": {
      "name": "python3",
      "display_name": "Python 3"
    },
    "language_info": {
      "name": "python"
    }
  },
  "cells": [
    {
      "cell_type": "markdown",
      "metadata": {
        "id": "view-in-github",
        "colab_type": "text"
      },
      "source": [
        "<a href=\"https://colab.research.google.com/github/KPathipati/python101/blob/main/Assignment_5.ipynb\" target=\"_parent\"><img src=\"https://colab.research.google.com/assets/colab-badge.svg\" alt=\"Open In Colab\"/></a>"
      ]
    },
    {
      "cell_type": "code",
      "execution_count": 3,
      "metadata": {
        "colab": {
          "base_uri": "https://localhost:8080/"
        },
        "id": "X48sSIhQg_AK",
        "outputId": "3453fe95-4e62-42c0-9130-a9ce12c439be"
      },
      "outputs": [
        {
          "output_type": "stream",
          "name": "stdout",
          "text": [
            "laptop: Lenovo, model: thinkpad, price: 500\n",
            "laptop: Dell, model: inspiron, price: 450\n",
            "laptop: Mac, model: pro, price: 1000\n",
            "laptop(brand='Lenovo', model='thinkpad', price=500)\n",
            "laptop(brand='Dell', model='inspiron', price=450)\n",
            "laptop(brand='Mac', model='pro', price=1000)\n"
          ]
        }
      ],
      "source": [
        "class laptop:\n",
        "    def __init__(computer, brand, model, price):\n",
        "        computer.brand = brand\n",
        "        computer.model = model\n",
        "        computer.price = price\n",
        "\n",
        "    def __str__(computer):\n",
        "        return f\"laptop: {computer.brand}, model: {computer.model}, price: {computer.price}\"\n",
        "\n",
        "    def __repr__(computer):\n",
        "        return f\"laptop(brand='{computer.brand}', model='{computer.model}', price={computer.price})\"\n",
        "laptop1 = laptop(\"Lenovo\", \"thinkpad\", 500)\n",
        "laptop2 = laptop(\"Dell\", \"inspiron\", 450)\n",
        "laptop3 = laptop(\"Mac\", \"pro\", 1000)\n",
        "\n",
        "print(laptop1)\n",
        "print(laptop2)\n",
        "print(laptop3)\n",
        "print(repr(laptop1))\n",
        "print(repr(laptop2))\n",
        "print(repr(laptop3))\n"
      ]
    }
  ]
}