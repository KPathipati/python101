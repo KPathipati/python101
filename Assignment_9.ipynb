{
  "nbformat": 4,
  "nbformat_minor": 0,
  "metadata": {
    "colab": {
      "provenance": [],
      "include_colab_link": true
    },
    "kernelspec": {
      "name": "python3",
      "display_name": "Python 3"
    },
    "language_info": {
      "name": "python"
    }
  },
  "cells": [
    {
      "cell_type": "markdown",
      "metadata": {
        "id": "view-in-github",
        "colab_type": "text"
      },
      "source": [
        "<a href=\"https://colab.research.google.com/github/KPathipati/python101/blob/main/Assignment_9.ipynb\" target=\"_parent\"><img src=\"https://colab.research.google.com/assets/colab-badge.svg\" alt=\"Open In Colab\"/></a>"
      ]
    },
    {
      "cell_type": "code",
      "execution_count": 3,
      "metadata": {
        "id": "9fAvuRMZH5ET",
        "outputId": "9d2199a8-837f-4c1c-83c9-f8acd20b14d7",
        "colab": {
          "base_uri": "https://localhost:8080/"
        }
      },
      "outputs": [
        {
          "output_type": "stream",
          "name": "stdout",
          "text": [
            "Enter your pet's name: monkey\n",
            "Enter what animal your pet is (Dog, Cat, Bird, etc): dog\n",
            "Enter your pet's age: 2\n",
            "\n",
            "About my pet:\n",
            "Its name is:   monkey\n",
            "Animal Type: dog\n",
            "My pet's age is: 2\n"
          ]
        }
      ],
      "source": [
        "class Pet:\n",
        "    def __init__(pet, name, animal, age):\n",
        "        pet.name = name\n",
        "        pet.animal_type = animal\n",
        "        pet.age = age\n",
        "\n",
        "\n",
        "def main():\n",
        "    name = input(\"Enter your pet's name: \")\n",
        "    animal = input(\"Enter what animal your pet is (Dog, Cat, Bird, etc): \")\n",
        "    age = input(\"Enter your pet's age: \")\n",
        "\n",
        "    my_pet = Pet(name, animal, age)\n",
        "\n",
        "    print(\"\\nAbout my pet:\")\n",
        "    print(\"It's name is:  \", my_pet.name)\n",
        "    print(\"Animal Type:\", my_pet.animal_type)\n",
        "    print(\"My pet's age is:\", my_pet.age)\n",
        "\n",
        "if __name__ == '__main__':\n",
        "    main()\n"
      ]
    }
  ]
}