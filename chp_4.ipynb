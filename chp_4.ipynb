{
  "nbformat": 4,
  "nbformat_minor": 0,
  "metadata": {
    "colab": {
      "provenance": [],
      "authorship_tag": "ABX9TyOOVvbthnTqYlVn48yqfUUq",
      "include_colab_link": true
    },
    "kernelspec": {
      "name": "python3",
      "display_name": "Python 3"
    },
    "language_info": {
      "name": "python"
    }
  },
  "cells": [
    {
      "cell_type": "markdown",
      "metadata": {
        "id": "view-in-github",
        "colab_type": "text"
      },
      "source": [
        "<a href=\"https://colab.research.google.com/github/KPathipati/python101/blob/main/chp_4.ipynb\" target=\"_parent\"><img src=\"https://colab.research.google.com/assets/colab-badge.svg\" alt=\"Open In Colab\"/></a>"
      ]
    },
    {
      "cell_type": "code",
      "execution_count": 6,
      "metadata": {
        "id": "WYCEzxsIWnpQ",
        "colab": {
          "base_uri": "https://localhost:8080/"
        },
        "outputId": "7fdc94c0-f14a-401e-8584-f21ec818f141"
      },
      "outputs": [
        {
          "output_type": "stream",
          "name": "stdout",
          "text": [
            "enter the amount you budgeted234\n",
            "enter the amount of expenses you have2\n",
            "enter the cost of a expense24\n",
            "The amount of money you have left is 210.0\n",
            "enter the cost of a expense123\n",
            "The amount of money you have left is 111.0\n"
          ]
        }
      ],
      "source": [
        "budget = float(input(\"enter the amount you budgeted\"))\n",
        "amount_of_expenses = float(input(\"enter the amount of expenses you have\"))\n",
        "while (amount_of_expenses > 0):\n",
        "  amount_of_expenses = amount_of_expenses - 1\n",
        "  expenses = float(input(\"enter the cost of a expense\"))\n",
        "  total_expenses = expenses + expenses\n",
        "  final_amount = budget - expenses\n",
        "  \n",
        "  print(\"The amount of money you have left is\", final_amount)\n",
        "\n",
        "\n"
      ]
    },
    {
      "cell_type": "code",
      "source": [
        "speed = float(input(\"how fast is the vehicle traveling\"))\n",
        "time = float(input(\"how many hours has it been traveling\"))\n",
        "while (time > 0):\n",
        "  time = time - 1\n",
        "  distance = speed * time\n",
        "  print(time,distance)"
      ],
      "metadata": {
        "colab": {
          "base_uri": "https://localhost:8080/"
        },
        "id": "qshjuFvRko1d",
        "outputId": "f483b056-6533-449e-d738-d61df1350ed6"
      },
      "execution_count": 3,
      "outputs": [
        {
          "output_type": "stream",
          "name": "stdout",
          "text": [
            "how fast is the vehicle traveling54\n",
            "how many hours has it been traveling3\n",
            "2.0 108.0\n",
            "1.0 54.0\n",
            "0.0 0.0\n"
          ]
        }
      ]
    },
    {
      "cell_type": "code",
      "source": [
        "celsius = 0\n",
        "while (celsius < 20):\n",
        "  celsius = celsius + 1\n",
        "  farenheit = (celsius * 95) + 32\n",
        "  print(celsius,farenheit)\n",
        "  "
      ],
      "metadata": {
        "colab": {
          "base_uri": "https://localhost:8080/"
        },
        "id": "GOhBhtWH4yrw",
        "outputId": "eea50128-49ae-4018-ca76-5331c4d680fa"
      },
      "execution_count": 6,
      "outputs": [
        {
          "output_type": "stream",
          "name": "stdout",
          "text": [
            "1 127\n",
            "2 222\n",
            "3 317\n",
            "4 412\n",
            "5 507\n",
            "6 602\n",
            "7 697\n",
            "8 792\n",
            "9 887\n",
            "10 982\n",
            "11 1077\n",
            "12 1172\n",
            "13 1267\n",
            "14 1362\n",
            "15 1457\n",
            "16 1552\n",
            "17 1647\n",
            "18 1742\n",
            "19 1837\n",
            "20 1932\n"
          ]
        }
      ]
    }
  ]
}