{
  "nbformat": 4,
  "nbformat_minor": 0,
  "metadata": {
    "colab": {
      "provenance": [],
      "authorship_tag": "ABX9TyN7iFoP/eRrZjQowV5hDv7r",
      "include_colab_link": true
    },
    "kernelspec": {
      "name": "python3",
      "display_name": "Python 3"
    },
    "language_info": {
      "name": "python"
    }
  },
  "cells": [
    {
      "cell_type": "markdown",
      "metadata": {
        "id": "view-in-github",
        "colab_type": "text"
      },
      "source": [
        "<a href=\"https://colab.research.google.com/github/KPathipati/python101/blob/main/chp_4.ipynb\" target=\"_parent\"><img src=\"https://colab.research.google.com/assets/colab-badge.svg\" alt=\"Open In Colab\"/></a>"
      ]
    },
    {
      "cell_type": "code",
      "execution_count": 6,
      "metadata": {
        "id": "WYCEzxsIWnpQ",
        "colab": {
          "base_uri": "https://localhost:8080/"
        },
        "outputId": "7fdc94c0-f14a-401e-8584-f21ec818f141"
      },
      "outputs": [
        {
          "output_type": "stream",
          "name": "stdout",
          "text": [
            "enter the amount you budgeted234\n",
            "enter the amount of expenses you have2\n",
            "enter the cost of a expense24\n",
            "The amount of money you have left is 210.0\n",
            "enter the cost of a expense123\n",
            "The amount of money you have left is 111.0\n"
          ]
        }
      ],
      "source": [
        "budget = float(input(\"enter the amount you budgeted\"))\n",
        "amount_of_expenses = float(input(\"enter the amount of expenses you have\"))\n",
        "while (amount_of_expenses > 0):\n",
        "  amount_of_expenses = amount_of_expenses - 1\n",
        "  expenses = float(input(\"enter the cost of a expense\"))\n",
        "  total_expenses = expenses + expenses\n",
        "  final_amount = budget - expenses\n",
        "  \n",
        "  print(\"The amount of money you have left is\", final_amount)\n",
        "\n",
        "\n"
      ]
    },
    {
      "cell_type": "markdown",
      "source": [],
      "metadata": {
        "id": "w42YrnRwdDmh"
      }
    }
  ]
}