{
  "nbformat": 4,
  "nbformat_minor": 0,
  "metadata": {
    "colab": {
      "provenance": [],
      "include_colab_link": true
    },
    "kernelspec": {
      "name": "python3",
      "display_name": "Python 3"
    },
    "language_info": {
      "name": "python"
    }
  },
  "cells": [
    {
      "cell_type": "markdown",
      "metadata": {
        "id": "view-in-github",
        "colab_type": "text"
      },
      "source": [
        "<a href=\"https://colab.research.google.com/github/KPathipati/python101/blob/main/Assignment_11.ipynb\" target=\"_parent\"><img src=\"https://colab.research.google.com/assets/colab-badge.svg\" alt=\"Open In Colab\"/></a>"
      ]
    },
    {
      "cell_type": "code",
      "execution_count": 6,
      "metadata": {
        "colab": {
          "base_uri": "https://localhost:8080/"
        },
        "id": "9Xur4oNVMPHD",
        "outputId": "a0fb077b-fc32-4ede-933b-c98356230521"
      },
      "outputs": [
        {
          "output_type": "stream",
          "name": "stdout",
          "text": [
            "Customer: Krish Pathipati\n",
            "Address: 12965 Cordellara Ln\n",
            "Telephone Number: 469-970-2343\n",
            "Customer Number: 10201\n",
            "Wants to be on Mailing List: True\n"
          ]
        }
      ],
      "source": [
        "class Person:\n",
        "    def __init__(customer, name, address, phone_num):\n",
        "        customer.name = name\n",
        "        customer.address = address\n",
        "        customer.phone_number = phone_num\n",
        "\n",
        "class Customer(Person):\n",
        "    def __init__(customer, name, address, phone_num, customer_number, mailing_list):\n",
        "        super().__init__(name, address, phone_num)\n",
        "        customer.customer_number = customer_number\n",
        "        customer.mailing_list = mailing_list\n",
        "\n",
        "if __name__ == \"__main__\":\n",
        "    customer1 = Customer(\"Krish Pathipati\", \"12965 Cordellara Ln\", \"469-970-2343\", \"10201\", True)\n",
        "\n",
        "    print(\"Customer:\", customer1.name)\n",
        "    print(\"Address:\", customer1.address)\n",
        "    print(\"Telephone Number:\", customer1.phone_number)\n",
        "    print(\"Customer Number:\", customer1.customer_number)\n",
        "    print(\"Wants to be on Mailing List:\", customer1.mailing_list)\n"
      ]
    }
  ]
}