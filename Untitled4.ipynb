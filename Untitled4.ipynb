{
  "nbformat": 4,
  "nbformat_minor": 0,
  "metadata": {
    "colab": {
      "provenance": [],
      "authorship_tag": "ABX9TyPjV7nz5rJEI5/VRsmE77Ia",
      "include_colab_link": true
    },
    "kernelspec": {
      "name": "python3",
      "display_name": "Python 3"
    },
    "language_info": {
      "name": "python"
    }
  },
  "cells": [
    {
      "cell_type": "markdown",
      "metadata": {
        "id": "view-in-github",
        "colab_type": "text"
      },
      "source": [
        "<a href=\"https://colab.research.google.com/github/KPathipati/python101/blob/main/Untitled4.ipynb\" target=\"_parent\"><img src=\"https://colab.research.google.com/assets/colab-badge.svg\" alt=\"Open In Colab\"/></a>"
      ]
    },
    {
      "cell_type": "code",
      "execution_count": 4,
      "metadata": {
        "colab": {
          "base_uri": "https://localhost:8080/"
        },
        "id": "pHd1RiA5YIfC",
        "outputId": "4f99569c-730d-41ed-caf3-59e5766dbfaf"
      },
      "outputs": [
        {
          "output_type": "stream",
          "name": "stdout",
          "text": [
            "python ['y', 't', 'n', 'o', 'p', 'h'] True\n",
            "python ['y', 'q', 'n', 'o', 'p', 'h'] False\n",
            "program ['y', 'q', 'n', 'o', 'p', 'h'] False\n",
            "program ['p', 'm', 'r', 'o', 'g', 'a'] True\n"
          ]
        }
      ],
      "source": [
        "# Finish the implementation of is_word_guessed method in MIT project.\n",
        "def is_word_guessed(secret_word, letters_guessed):\n",
        "    '''\n",
        "    secret_word: string, the word the user is guessing; assumes all letters are\n",
        "      lowercase\n",
        "    letters_guessed: list (of letters), which letters have been guessed so far;\n",
        "      assumes that all letters are lowercase\n",
        "    returns: boolean, True if all the letters of secret_word are in letters_guessed;\n",
        "      False otherwise\n",
        "    '''\n",
        "    # FILL IN YOUR CODE HERE AND DELETE \"pass\"\n",
        "    unknown_letters = list(secret_word)\n",
        "\n",
        "    for elem in unknown_letters:\n",
        "        if elem not in letters_guessed:\n",
        "            return False\n",
        "    return True\n",
        "\n",
        "# Test the method - True\n",
        "secret_word = 'python'\n",
        "letters_guessed = ['y', 't', 'n', 'o', 'p', 'h']\n",
        "x = is_word_guessed(secret_word, letters_guessed)\n",
        "print(secret_word, letters_guessed, x)\n",
        "\n",
        "# Test the method - False\n",
        "secret_word = 'python'\n",
        "letters_guessed = ['y', 'q', 'n', 'o', 'p', 'h']\n",
        "x = is_word_guessed(secret_word, letters_guessed)\n",
        "print(secret_word, letters_guessed, x)\n",
        "\n",
        "\n",
        "# Test the method - False\n",
        "secret_word = 'program'\n",
        "letters_guessed = ['y', 'q', 'n', 'o', 'p', 'h']\n",
        "x = is_word_guessed(secret_word, letters_guessed)\n",
        "print(secret_word, letters_guessed, x)\n",
        "\n",
        "\n",
        "# Test the method - True\n",
        "secret_word = 'program'\n",
        "letters_guessed = ['p', 'm', 'r', 'o', 'g', 'a']\n",
        "x = is_word_guessed(secret_word, letters_guessed)\n",
        "print(secret_word, letters_guessed, x)"
      ]
    }
  ]
}