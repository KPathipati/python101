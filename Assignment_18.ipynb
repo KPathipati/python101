{
  "nbformat": 4,
  "nbformat_minor": 0,
  "metadata": {
    "colab": {
      "provenance": [],
      "include_colab_link": true
    },
    "kernelspec": {
      "name": "python3",
      "display_name": "Python 3"
    },
    "language_info": {
      "name": "python"
    }
  },
  "cells": [
    {
      "cell_type": "markdown",
      "metadata": {
        "id": "view-in-github",
        "colab_type": "text"
      },
      "source": [
        "<a href=\"https://colab.research.google.com/github/KPathipati/python101/blob/main/Assignment_18.ipynb\" target=\"_parent\"><img src=\"https://colab.research.google.com/assets/colab-badge.svg\" alt=\"Open In Colab\"/></a>"
      ]
    },
    {
      "cell_type": "code",
      "execution_count": 6,
      "metadata": {
        "colab": {
          "base_uri": "https://localhost:8080/"
        },
        "id": "8em6mSY0y1fu",
        "outputId": "84fab743-3c36-4862-b7a7-8c315328ddcc"
      },
      "outputs": [
        {
          "output_type": "stream",
          "name": "stdout",
          "text": [
            "Top N words and their frequencies:\n",
            "<head><title>Not: 85\n",
            "Acceptable!</title></head><body><h1>Not: 85\n",
            "Acceptable!</h1><p>An: 85\n",
            "appropriate: 85\n",
            "representation: 85\n",
            "of: 85\n",
            "the: 85\n",
            "requested: 85\n",
            "resource: 85\n",
            "could: 85\n"
          ]
        }
      ],
      "source": [
        "import requests\n",
        "from collections import Counter\n",
        "stop_at = [\"the\", \"a\", \"an\", \"in\", \"he\", \"she\", \"her\"]\n",
        "\n",
        "def get_text_content(abcd_id):\n",
        "    response = requests.get(f\"https://abcd2.projectabcd.com/api/getinfo.php?id={abcd_id}\")\n",
        "    return response.text\n",
        "def generate_frequency_table(abcd_ids, top_n, exclude_stop_at=False):\n",
        "    word_count = Counter()\n",
        "    for abcd_id in abcd_ids:\n",
        "        text = get_text_content(abcd_id)\n",
        "        words = text.split()\n",
        "        if exclude_stop_at:\n",
        "            words = [word for word in words if word.lower() not in stop_at]\n",
        "        word_count.update(words)\n",
        "    top_n_words = word_count.most_common(top_n)\n",
        "\n",
        "    return top_n_words\n",
        "def display_frequency_table(frequency_table):\n",
        "    print(\"Top N words and their frequencies:\")\n",
        "    for word, frequency in frequency_table:\n",
        "        print(f\"{word}: {frequency}\")\n",
        "\n",
        "def main():\n",
        "    abcd_ids = [711, 733, 523, 542, 731, 763, 669, 739, 690, 742, 724, 112, 668, 714, 671, 32, 722, 434, 713, 751, 760, 102, 654, 695, 762, 470, 33, 432, 429, 265, 673, 111, 588, 734, 692, 477, 518, 720, 445, 437, 752, 206, 670, 544, 491, 737, 685, 492, 53, 676, 575, 469, 183, 717, 665, 715, 410, 425, 430, 586, 769, 235, 462, 741, 524, 718, 758, 465, 745, 520, 431, 721, 171, 484, 759, 672, 433, 749, 502, 756, 747, 757, 26, 765, 667]\n",
        "    top_n = 10\n",
        "    frequency_table = generate_frequency_table(abcd_ids, top_n)\n",
        "    display_frequency_table(frequency_table)\n",
        "\n",
        "if __name__ == \"__main__\":\n",
        "    main()\n"
      ]
    }
  ]
}