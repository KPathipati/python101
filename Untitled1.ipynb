{
  "nbformat": 4,
  "nbformat_minor": 0,
  "metadata": {
    "colab": {
      "provenance": [],
      "authorship_tag": "ABX9TyMSdCcWBB7z0rvXPy3DN1p1",
      "include_colab_link": true
    },
    "kernelspec": {
      "name": "python3",
      "display_name": "Python 3"
    },
    "language_info": {
      "name": "python"
    }
  },
  "cells": [
    {
      "cell_type": "markdown",
      "metadata": {
        "id": "view-in-github",
        "colab_type": "text"
      },
      "source": [
        "<a href=\"https://colab.research.google.com/github/KPathipati/python101/blob/main/Untitled1.ipynb\" target=\"_parent\"><img src=\"https://colab.research.google.com/assets/colab-badge.svg\" alt=\"Open In Colab\"/></a>"
      ]
    },
    {
      "cell_type": "code",
      "execution_count": null,
      "metadata": {
        "id": "rd4ZCfGoZBKG"
      },
      "outputs": [],
      "source": [
        "with open('file1.txt', 'r') as f:\n",
        "    file1_words = f.read().split()\n",
        "with open('file2.txt', 'r') as f:\n",
        "    file2_words = f.read().split()\n",
        "    \n",
        "unique_words = list(set(file1_words + file2_words))\n",
        "same_words = list(set(file1_words) & set(file2_words))\n",
        "\n",
        "file1_only = list(set(file1_words) - set(file2_words))\n",
        "file2_only = list(set(file2_words) - set(file1_words))\n",
        "\n",
        "either_or_words = list(set(file1_words) ^ set(file2_words))\n",
        "\n",
        "print(\"Unique words in both files:\", sorted(unique_words))\n",
        "print(\"Words that appear in both files:\", sorted(same_words))\n",
        "print(\"Words that appear in the first file but not the second:\", sorted(file1_only))\n",
        "print(\"Words that appear in the second file but not the first:\", sorted(file2_only))\n",
        "print(\"Words that appear in either the first or second file, but not both:\", sorted(either_or_words))"
      ]
    }
  ]
}