{
  "nbformat": 4,
  "nbformat_minor": 0,
  "metadata": {
    "colab": {
      "provenance": [],
      "authorship_tag": "ABX9TyOw3tjbKoOU1lMSBhPENnJy",
      "include_colab_link": true
    },
    "kernelspec": {
      "name": "python3",
      "display_name": "Python 3"
    },
    "language_info": {
      "name": "python"
    }
  },
  "cells": [
    {
      "cell_type": "markdown",
      "metadata": {
        "id": "view-in-github",
        "colab_type": "text"
      },
      "source": [
        "<a href=\"https://colab.research.google.com/github/KPathipati/python101/blob/main/Untitled0.ipynb\" target=\"_parent\"><img src=\"https://colab.research.google.com/assets/colab-badge.svg\" alt=\"Open In Colab\"/></a>"
      ]
    },
    {
      "cell_type": "code",
      "execution_count": null,
      "metadata": {
        "id": "_1ztIz68RHXo"
      },
      "outputs": [],
      "source": [
        "boys_names = []\n",
        "file_name = 'BoyNames.txt'\n",
        "file_obj = open(file_name)\n",
        "for line in file_obj:\n",
        "    boys_names.append(line.strip())\n",
        "file_obj.close()\n",
        "\n",
        "girls_names = []\n",
        "file_name = 'GirlNames.txt'\n",
        "file_obj = open(file_name)\n",
        "for line in file_obj:\n",
        "    girls_names.append(line.strip())\n",
        "file_obj.close()\n",
        "\n",
        "# Main method for program execution\n",
        "def main():\n",
        "    boys_name = input(\"Enter a boy's name, or N if you do not wish to enter a boy's name: \")\n",
        "\n",
        "    if boys_name == \"\":\n",
        "       print(\"You didnt enter a  name.\")\n",
        "    else:\n",
        "       popular = False\n",
        "       for name in boys_names:\n",
        "            if name.lower() == bosy_name.lower():\n",
        "                popular = True\n",
        "       if popular == True:\n",
        "            print(boys_name, \"is one of the most popular boy's names.\")\n",
        "       else:\n",
        "            print(boys_name, \"isnt one of the most popular boy's names.\")\n",
        "\n",
        "    print(\"\")\n",
        "\n",
        "    girls_name = input(\"Enter a girl's name, or N if you do not wish to enter a girl's name: \")\n",
        "\n",
        "    if girls_name == \"\":\n",
        "       print(\"You didnt enter a name.\")\n",
        "    else:\n",
        "       popular = False\n",
        "       for name in girls_names:\n",
        "         if name.lower() == girls_name.lower():\n",
        "                popular = True\n",
        "       if popular == True:\n",
        "            print(girls_name, \"is one of the most popular girl's names.\")\n",
        "       else:\n",
        "            print(girls_name, \"isnt one of the most popular girl's names.\")\n",
        "\n",
        "\n",
        "main()"
      ]
    }
  ]
}