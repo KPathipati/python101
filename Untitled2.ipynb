{
  "nbformat": 4,
  "nbformat_minor": 0,
  "metadata": {
    "colab": {
      "provenance": [],
      "authorship_tag": "ABX9TyPVCTl+7JAYCXY26SYbE6FO",
      "include_colab_link": true
    },
    "kernelspec": {
      "name": "python3",
      "display_name": "Python 3"
    },
    "language_info": {
      "name": "python"
    }
  },
  "cells": [
    {
      "cell_type": "markdown",
      "metadata": {
        "id": "view-in-github",
        "colab_type": "text"
      },
      "source": [
        "<a href=\"https://colab.research.google.com/github/KPathipati/python101/blob/main/Untitled2.ipynb\" target=\"_parent\"><img src=\"https://colab.research.google.com/assets/colab-badge.svg\" alt=\"Open In Colab\"/></a>"
      ]
    },
    {
      "cell_type": "code",
      "execution_count": 26,
      "metadata": {
        "id": "aOavmUa7Ggin",
        "colab": {
          "base_uri": "https://localhost:8080/"
        },
        "outputId": "931d4248-cf6e-413e-b116-c32ac7f76cd9"
      },
      "outputs": [
        {
          "output_type": "stream",
          "name": "stdout",
          "text": [
            "Enter a phone number with this format :ABC-XYZ-PQRSAFC-ABC-PQRS\n",
            "your number is 2\n",
            "your number is 3\n",
            "your number is 2\n",
            "your number is -\n",
            "your number is 2\n",
            "your number is 2\n",
            "your number is 2\n",
            "your number is -\n",
            "your number is 7\n",
            "your number is 7\n",
            "your number is 7\n",
            "your number is 7\n"
          ]
        }
      ],
      "source": [
        "phone_number = input(\"Enter a phone number with this format :ABC-XYZ-PQRS\")\n",
        "for elem in phone_number:\n",
        "  real_num = \"\"\n",
        "  if (elem == \"A\") or (elem == \"B\") or (elem == \"C\"):\n",
        "    real_num = real_num + \"2\"\n",
        "\n",
        "  elif (elem == \"D\") or (elem == \"E\") or (elem == \"F\"):\n",
        "        real_num = real_num + \"3\"\n",
        "\n",
        "  elif (elem == \"G\") or (elem == \"H\") or (elem == \"I\"):\n",
        "        real_num = real_num + \"4\"\n",
        "\n",
        "  elif (elem == \"J\") or (elem == \"K\") or (elem == \"L\"):\n",
        "        real_num = real_num + \"5\"\n",
        "\n",
        "  elif (elem == \"M\") or (elem == \"N\") or (elem == \"O\"):\n",
        "        real_num = real_num + \"6\"\n",
        "\n",
        "  elif (elem == \"P\") or (elem == \"Q\") or (elem == \"R\") or (elem == \"S\"):\n",
        "        real_num = real_num + \"7\"\n",
        "\n",
        "  elif (elem == \"T\") or (elem == \"U\") or (elem == \"V\"):\n",
        "        real_num = real_num + \"8\"\n",
        "\n",
        "  elif (elem == \"W\") or (elem == \"X\") or (elem == \"Y\") or (elem == \"Z\"):\n",
        "        real_num = real_num + \"9\"\n",
        " \n",
        "  else:\n",
        "   real_num = real_num + elem\n",
        "\n",
        "  print(\"your number is\", real_num)\n",
        " "
      ]
    }
  ]
}